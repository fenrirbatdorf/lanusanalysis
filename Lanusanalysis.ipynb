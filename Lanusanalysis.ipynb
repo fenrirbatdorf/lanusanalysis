{
 "cells": [
  {
   "cell_type": "code",
   "execution_count": 107,
   "metadata": {},
   "outputs": [
    {
     "name": "stdout",
     "output_type": "stream",
     "text": [
      "Image ID               0\n",
      "Northern California    0\n",
      "R Median               0\n",
      "G Median               0\n",
      "B Median               0\n",
      "H Median               0\n",
      "S Median               0\n",
      "V Median               0\n",
      "R Mean Bin             0\n",
      "G Mean Bin             0\n",
      "B Mean Bin             0\n",
      "H Mean Bin             0\n",
      "S Mean Bin             0\n",
      "V Mean Bin             0\n",
      "R Var Bin              0\n",
      "G Var Bin              0\n",
      "B Var Bin              0\n",
      "H Var Bin              0\n",
      "S Var Bin              0\n",
      "V Var Bin              0\n",
      "Label                  0\n",
      "dtype: int64\n",
      "Image ID               0\n",
      "Northern California    0\n",
      "R Median               0\n",
      "G Median               0\n",
      "B Median               0\n",
      "H Median               0\n",
      "S Median               0\n",
      "V Median               0\n",
      "R Mean Bin             0\n",
      "G Mean Bin             0\n",
      "B Mean Bin             0\n",
      "H Mean Bin             0\n",
      "S Mean Bin             0\n",
      "V Mean Bin             0\n",
      "R Var Bin              0\n",
      "G Var Bin              0\n",
      "B Var Bin              0\n",
      "H Var Bin              0\n",
      "S Var Bin              0\n",
      "V Var Bin              0\n",
      "Label                  0\n",
      "dtype: int64\n"
     ]
    }
   ],
   "source": [
    "#import pandas and numpy, check for missing values\n",
    "import pandas as pd\n",
    "import numpy as np\n",
    "north = pd.read_csv('northern-planes-meta-data_binned.csv')\n",
    "south = pd.read_csv('southern-planes-meta-data_binned.csv')\n",
    "print(north.isna().sum())\n",
    "print(south.isna().sum())"
   ]
  },
  {
   "cell_type": "code",
   "execution_count": 108,
   "metadata": {},
   "outputs": [
    {
     "name": "stdout",
     "output_type": "stream",
     "text": [
      "10847\n",
      "10848\n",
      "11279\n",
      "11684\n",
      "12112\n",
      "14987\n",
      "23822\n",
      "24233\n",
      "24237\n",
      "24242\n",
      "24248\n",
      "24252\n",
      "24258\n",
      "24263\n",
      "24269\n",
      "24274\n",
      "24277\n",
      "24282\n",
      "24288\n",
      "24293\n",
      "24295\n"
     ]
    }
   ],
   "source": [
    "bins = []\n",
    "sum_len = 0\n",
    "for column in north:\n",
    "    column_len = pd.unique(north[column].values)\n",
    "    bins.append(column_len)\n",
    "    sum_len += (len(column_len))\n",
    "    print(sum_len-2)"
   ]
  },
  {
   "cell_type": "code",
   "execution_count": 109,
   "metadata": {},
   "outputs": [
    {
     "name": "stdout",
     "output_type": "stream",
     "text": [
      "21149\n",
      "21150\n",
      "21597\n",
      "22019\n",
      "22460\n",
      "27594\n",
      "43217\n",
      "43639\n",
      "43644\n",
      "43650\n",
      "43656\n",
      "43660\n",
      "43667\n",
      "43672\n",
      "43678\n",
      "43683\n",
      "43686\n",
      "43691\n",
      "43697\n",
      "43702\n",
      "43704\n"
     ]
    }
   ],
   "source": [
    "bins = []\n",
    "sum_len = 0\n",
    "for column in south:\n",
    "    column_len = pd.unique(south[column].values)\n",
    "    bins.append(column_len)\n",
    "    sum_len += (len(column_len))\n",
    "    print(sum_len-2)"
   ]
  },
  {
   "cell_type": "code",
   "execution_count": 110,
   "metadata": {},
   "outputs": [],
   "source": [
    "north_min = north.iloc[:,1:8].min()\n",
    "north_max = north.iloc[:,1:8].max()"
   ]
  },
  {
   "cell_type": "code",
   "execution_count": 111,
   "metadata": {},
   "outputs": [
    {
     "name": "stdout",
     "output_type": "stream",
     "text": [
      "Index(['R Median', 'G Median', 'B Median', 'H Median', 'S Median', 'V Median'], dtype='object')\n"
     ]
    }
   ],
   "source": [
    "north = north.drop(columns = ['Image ID', 'Northern California', 'R Mean Bin', 'G Mean Bin', 'B Mean Bin', 'H Mean Bin',\n",
    "       'S Mean Bin', 'V Mean Bin', 'R Var Bin', 'G Var Bin', 'B Var Bin',\n",
    "       'H Var Bin', 'S Var Bin', 'V Var Bin', 'Label'])\n",
    "print(north.columns)"
   ]
  },
  {
   "cell_type": "code",
   "execution_count": 112,
   "metadata": {},
   "outputs": [
    {
     "name": "stdout",
     "output_type": "stream",
     "text": [
      "0.0509803928434848\n",
      "1.0\n",
      "0.0941176488995552\n",
      "1.0\n",
      "0.039215687662363\n",
      "1.0\n",
      "0.0\n",
      "0.9696969696969696\n",
      "0.0\n",
      "0.75\n",
      "0.0941176488995552\n",
      "1.0\n",
      "[0.9490196071565152, 0.9058823511004448, 0.960784312337637, 0.9696969696969696, 0.75, 0.9058823511004448]\n"
     ]
    }
   ],
   "source": [
    "medians = []\n",
    "for column in north:\n",
    "    print(north[column].min())\n",
    "    print(north[column].max())\n",
    "    medians.append(north[column].max() - north[column].min())\n",
    "print(medians)"
   ]
  },
  {
   "cell_type": "code",
   "execution_count": 113,
   "metadata": {},
   "outputs": [
    {
     "name": "stdout",
     "output_type": "stream",
     "text": [
      "0.31633986905217176\n",
      "0.3019607837001483\n",
      "0.320261437445879\n",
      "0.3232323232323232\n",
      "0.25\n",
      "0.3019607837001483\n"
     ]
    }
   ],
   "source": [
    "median_dict = {'R Median': 0.9490196071565152, 'G Median': 0.9058823511004448, 'B Median': 0.960784312337637, 'H Median': 0.9696969696969696, 'S Median': 0.75, 'V Median': 0.9058823511004448}\n",
    "for key in median_dict:    \n",
    "    print(median_dict[key]/3)"
   ]
  },
  {
   "cell_type": "code",
   "execution_count": 114,
   "metadata": {},
   "outputs": [
    {
     "name": "stdout",
     "output_type": "stream",
     "text": [
      "0.0509803928434848 1.0\n",
      "0.0941176488995552 1.0\n",
      "0.039215687662363 1.0\n",
      "0.0 0.9696969696969696\n",
      "0.0 0.75\n",
      "0.0941176488995552 1.0\n",
      "{'R Median': [(0.0509803928434848, 0.3673202618956566), (0.3673202618956566, 0.6836601309478283), (0.6836601309478283, 1.0000000000000002)], 'G Median': [(0.0941176488995552, 0.3960784325997035), (0.3960784325997035, 0.6980392162998518), (0.6980392162998518, 1.0)], 'B Median': [(0.039215687662363, 0.359477125108242), (0.359477125108242, 0.679738562554121), (0.679738562554121, 1.0)], 'H Median': [(0.0, 0.3232323232323232), (0.3232323232323232, 0.6464646464646464), (0.6464646464646464, 0.9696969696969696)], 'S Median': [(0.0, 0.25), (0.25, 0.5), (0.5, 0.75)], 'V Median': [(0.0941176488995552, 0.3960784325997035), (0.3960784325997035, 0.6980392162998518), (0.6980392162998518, 1.0)]}\n"
     ]
    }
   ],
   "source": [
    "bins = {}\n",
    "for column in north:\n",
    "    max = north[column].max()\n",
    "    min = north[column].min()\n",
    "    print(min, max)\n",
    "    bin_range = (max-min)/3\n",
    "    bins[column] = [(min + bin_range * i, min + bin_range * (i + 1)) for i in range(0,3)]\n",
    "print(bins)"
   ]
  },
  {
   "cell_type": "code",
   "execution_count": 115,
   "metadata": {},
   "outputs": [
    {
     "ename": "TypeError",
     "evalue": "Invalid \"to_replace\" type: 'float'",
     "output_type": "error",
     "traceback": [
      "\u001b[1;31m---------------------------------------------------------------------------\u001b[0m",
      "\u001b[1;31mTypeError\u001b[0m                                 Traceback (most recent call last)",
      "\u001b[1;32m~\\AppData\\Local\\Temp\\ipykernel_17920\\3373597986.py\u001b[0m in \u001b[0;36m?\u001b[1;34m()\u001b[0m\n\u001b[0;32m      6\u001b[0m         \u001b[0mnorth\u001b[0m\u001b[1;33m[\u001b[0m\u001b[1;34m'R Median'\u001b[0m\u001b[1;33m]\u001b[0m \u001b[1;33m=\u001b[0m \u001b[0mnorth\u001b[0m\u001b[1;33m.\u001b[0m\u001b[0mreplace\u001b[0m\u001b[1;33m(\u001b[0m\u001b[0mi\u001b[0m\u001b[1;33m,\u001b[0m \u001b[0mr_bin_1\u001b[0m\u001b[1;33m)\u001b[0m\u001b[1;33m\u001b[0m\u001b[1;33m\u001b[0m\u001b[0m\n\u001b[0;32m      7\u001b[0m     \u001b[1;32melif\u001b[0m \u001b[0mi\u001b[0m \u001b[1;33m<=\u001b[0m \u001b[1;36m0.6836601309478283\u001b[0m\u001b[1;33m:\u001b[0m\u001b[1;33m\u001b[0m\u001b[1;33m\u001b[0m\u001b[0m\n\u001b[0;32m      8\u001b[0m         \u001b[0mnorth\u001b[0m\u001b[1;33m[\u001b[0m\u001b[1;34m'R Median'\u001b[0m\u001b[1;33m]\u001b[0m \u001b[1;33m=\u001b[0m \u001b[0mnorth\u001b[0m\u001b[1;33m.\u001b[0m\u001b[0mreplace\u001b[0m\u001b[1;33m(\u001b[0m\u001b[0mi\u001b[0m\u001b[1;33m,\u001b[0m \u001b[0mr_bin_2\u001b[0m\u001b[1;33m)\u001b[0m\u001b[1;33m\u001b[0m\u001b[1;33m\u001b[0m\u001b[0m\n\u001b[0;32m      9\u001b[0m     \u001b[1;32melse\u001b[0m\u001b[1;33m:\u001b[0m\u001b[1;33m\u001b[0m\u001b[1;33m\u001b[0m\u001b[0m\n\u001b[1;32m---> 10\u001b[1;33m         \u001b[0mnorth\u001b[0m\u001b[1;33m[\u001b[0m\u001b[1;34m'R Median'\u001b[0m\u001b[1;33m]\u001b[0m \u001b[1;33m=\u001b[0m \u001b[0mnorth\u001b[0m\u001b[1;33m.\u001b[0m\u001b[0mreplace\u001b[0m\u001b[1;33m(\u001b[0m\u001b[0mi\u001b[0m\u001b[1;33m,\u001b[0m \u001b[0mr_bin_3\u001b[0m\u001b[1;33m)\u001b[0m\u001b[1;33m\u001b[0m\u001b[1;33m\u001b[0m\u001b[0m\n\u001b[0m\u001b[0;32m     11\u001b[0m \u001b[1;33m\u001b[0m\u001b[0m\n\u001b[0;32m     12\u001b[0m \u001b[0mprint\u001b[0m\u001b[1;33m(\u001b[0m\u001b[0mnorth\u001b[0m\u001b[1;33m[\u001b[0m\u001b[1;34m'R Median'\u001b[0m\u001b[1;33m]\u001b[0m\u001b[1;33m.\u001b[0m\u001b[0mhead\u001b[0m\u001b[1;33m(\u001b[0m\u001b[1;36m50\u001b[0m\u001b[1;33m)\u001b[0m\u001b[1;33m)\u001b[0m\u001b[1;33m\u001b[0m\u001b[1;33m\u001b[0m\u001b[0m\n",
      "\u001b[1;32mc:\\Users\\Fen\\miniconda3\\Lib\\site-packages\\pandas\\core\\generic.py\u001b[0m in \u001b[0;36m?\u001b[1;34m(self, to_replace, value, inplace, limit, regex, method)\u001b[0m\n\u001b[0;32m   8138\u001b[0m                         new_data = self._mgr.replace(\n\u001b[0;32m   8139\u001b[0m                             \u001b[0mto_replace\u001b[0m\u001b[1;33m=\u001b[0m\u001b[0mto_replace\u001b[0m\u001b[1;33m,\u001b[0m \u001b[0mvalue\u001b[0m\u001b[1;33m=\u001b[0m\u001b[0mvalue\u001b[0m\u001b[1;33m,\u001b[0m \u001b[0minplace\u001b[0m\u001b[1;33m=\u001b[0m\u001b[0minplace\u001b[0m\u001b[1;33m\u001b[0m\u001b[1;33m\u001b[0m\u001b[0m\n\u001b[0;32m   8140\u001b[0m                         \u001b[1;33m)\u001b[0m\u001b[1;33m\u001b[0m\u001b[1;33m\u001b[0m\u001b[0m\n\u001b[0;32m   8141\u001b[0m                 \u001b[1;32melse\u001b[0m\u001b[1;33m:\u001b[0m\u001b[1;33m\u001b[0m\u001b[1;33m\u001b[0m\u001b[0m\n\u001b[1;32m-> 8142\u001b[1;33m                     raise TypeError(\n\u001b[0m\u001b[0;32m   8143\u001b[0m                         \u001b[1;33mf'\u001b[0m\u001b[1;33mInvalid \"to_replace\" type: \u001b[0m\u001b[1;33m{\u001b[0m\u001b[0mrepr\u001b[0m\u001b[1;33m(\u001b[0m\u001b[0mtype\u001b[0m\u001b[1;33m(\u001b[0m\u001b[0mto_replace\u001b[0m\u001b[1;33m)\u001b[0m\u001b[1;33m.\u001b[0m\u001b[0m__name__\u001b[0m\u001b[1;33m)\u001b[0m\u001b[1;33m}\u001b[0m\u001b[1;33m'\u001b[0m\u001b[1;33m\u001b[0m\u001b[1;33m\u001b[0m\u001b[0m\n\u001b[0;32m   8144\u001b[0m                     \u001b[1;33m)\u001b[0m\u001b[1;33m\u001b[0m\u001b[1;33m\u001b[0m\u001b[0m\n\u001b[0;32m   8145\u001b[0m \u001b[1;33m\u001b[0m\u001b[0m\n",
      "\u001b[1;31mTypeError\u001b[0m: Invalid \"to_replace\" type: 'float'"
     ]
    }
   ],
   "source": [
    "r_bin_1 = [0.0509803928434848, 0.3673202618956566]\n",
    "r_bin_2 = [0.3673202618956566, 0.6836601309478283]\n",
    "r_bin_3 = [0.6836601309478283, 1]\n",
    "for i in north['R Median']:\n",
    "    if i <= 0.3673202618956566:\n",
    "        north['R Median'] = north.replace(i, r_bin_1)\n",
    "    elif i <= 0.6836601309478283:\n",
    "        north['R Median'] = north.replace(i, r_bin_2)\n",
    "    else:\n",
    "        north['R Median'] = north.replace(i, r_bin_3)\n",
    "\n",
    "print(north['R Median'].head(50))"
   ]
  },
  {
   "cell_type": "code",
   "execution_count": null,
   "metadata": {},
   "outputs": [],
   "source": []
  },
  {
   "cell_type": "code",
   "execution_count": null,
   "metadata": {},
   "outputs": [],
   "source": []
  },
  {
   "cell_type": "code",
   "execution_count": null,
   "metadata": {},
   "outputs": [],
   "source": []
  },
  {
   "cell_type": "code",
   "execution_count": null,
   "metadata": {},
   "outputs": [],
   "source": []
  }
 ],
 "metadata": {
  "kernelspec": {
   "display_name": "base",
   "language": "python",
   "name": "python3"
  },
  "language_info": {
   "codemirror_mode": {
    "name": "ipython",
    "version": 3
   },
   "file_extension": ".py",
   "mimetype": "text/x-python",
   "name": "python",
   "nbconvert_exporter": "python",
   "pygments_lexer": "ipython3",
   "version": "3.12.3"
  }
 },
 "nbformat": 4,
 "nbformat_minor": 2
}
